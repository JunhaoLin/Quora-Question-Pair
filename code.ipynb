{
 "cells": [
  {
   "cell_type": "markdown",
   "metadata": {},
   "source": [
    "# CS4120 Final Project\n",
    "### Junhao Lin, Xianrui She"
   ]
  },
  {
   "cell_type": "markdown",
   "metadata": {},
   "source": [
    "### 1. Data Display & Preprocessing"
   ]
  },
  {
   "cell_type": "code",
   "execution_count": 5,
   "metadata": {},
   "outputs": [],
   "source": [
    "# import libraries\n",
    "import numpy as np \n",
    "import pandas as pd \n",
    "import matplotlib.pyplot as plt \n",
    "import re\n",
    "from nltk.stem import SnowballStemmer\n",
    "from nltk.tokenize import word_tokenize"
   ]
  },
  {
   "cell_type": "code",
   "execution_count": 6,
   "metadata": {},
   "outputs": [],
   "source": [
    "# reading the data\n",
    "train = pd.read_csv('./data/train.csv')\n",
    "test = pd.read_csv('./data/test.csv')"
   ]
  },
  {
   "cell_type": "code",
   "execution_count": 7,
   "metadata": {
    "scrolled": true
   },
   "outputs": [
    {
     "data": {
      "text/html": [
       "<div>\n",
       "<style scoped>\n",
       "    .dataframe tbody tr th:only-of-type {\n",
       "        vertical-align: middle;\n",
       "    }\n",
       "\n",
       "    .dataframe tbody tr th {\n",
       "        vertical-align: top;\n",
       "    }\n",
       "\n",
       "    .dataframe thead th {\n",
       "        text-align: right;\n",
       "    }\n",
       "</style>\n",
       "<table border=\"1\" class=\"dataframe\">\n",
       "  <thead>\n",
       "    <tr style=\"text-align: right;\">\n",
       "      <th></th>\n",
       "      <th>id</th>\n",
       "      <th>qid1</th>\n",
       "      <th>qid2</th>\n",
       "      <th>question1</th>\n",
       "      <th>question2</th>\n",
       "      <th>is_duplicate</th>\n",
       "    </tr>\n",
       "  </thead>\n",
       "  <tbody>\n",
       "    <tr>\n",
       "      <th>0</th>\n",
       "      <td>0</td>\n",
       "      <td>1</td>\n",
       "      <td>2</td>\n",
       "      <td>What is the step by step guide to invest in sh...</td>\n",
       "      <td>What is the step by step guide to invest in sh...</td>\n",
       "      <td>0</td>\n",
       "    </tr>\n",
       "    <tr>\n",
       "      <th>1</th>\n",
       "      <td>1</td>\n",
       "      <td>3</td>\n",
       "      <td>4</td>\n",
       "      <td>What is the story of Kohinoor (Koh-i-Noor) Dia...</td>\n",
       "      <td>What would happen if the Indian government sto...</td>\n",
       "      <td>0</td>\n",
       "    </tr>\n",
       "    <tr>\n",
       "      <th>2</th>\n",
       "      <td>2</td>\n",
       "      <td>5</td>\n",
       "      <td>6</td>\n",
       "      <td>How can I increase the speed of my internet co...</td>\n",
       "      <td>How can Internet speed be increased by hacking...</td>\n",
       "      <td>0</td>\n",
       "    </tr>\n",
       "    <tr>\n",
       "      <th>3</th>\n",
       "      <td>3</td>\n",
       "      <td>7</td>\n",
       "      <td>8</td>\n",
       "      <td>Why am I mentally very lonely? How can I solve...</td>\n",
       "      <td>Find the remainder when [math]23^{24}[/math] i...</td>\n",
       "      <td>0</td>\n",
       "    </tr>\n",
       "    <tr>\n",
       "      <th>4</th>\n",
       "      <td>4</td>\n",
       "      <td>9</td>\n",
       "      <td>10</td>\n",
       "      <td>Which one dissolve in water quikly sugar, salt...</td>\n",
       "      <td>Which fish would survive in salt water?</td>\n",
       "      <td>0</td>\n",
       "    </tr>\n",
       "  </tbody>\n",
       "</table>\n",
       "</div>"
      ],
      "text/plain": [
       "   id  qid1  qid2                                          question1  \\\n",
       "0   0     1     2  What is the step by step guide to invest in sh...   \n",
       "1   1     3     4  What is the story of Kohinoor (Koh-i-Noor) Dia...   \n",
       "2   2     5     6  How can I increase the speed of my internet co...   \n",
       "3   3     7     8  Why am I mentally very lonely? How can I solve...   \n",
       "4   4     9    10  Which one dissolve in water quikly sugar, salt...   \n",
       "\n",
       "                                           question2  is_duplicate  \n",
       "0  What is the step by step guide to invest in sh...             0  \n",
       "1  What would happen if the Indian government sto...             0  \n",
       "2  How can Internet speed be increased by hacking...             0  \n",
       "3  Find the remainder when [math]23^{24}[/math] i...             0  \n",
       "4            Which fish would survive in salt water?             0  "
      ]
     },
     "execution_count": 7,
     "metadata": {},
     "output_type": "execute_result"
    }
   ],
   "source": [
    "# data preprocessing\n",
    "# data preview\n",
    "train.head()"
   ]
  },
  {
   "cell_type": "code",
   "execution_count": 8,
   "metadata": {},
   "outputs": [],
   "source": [
    "# cut out the id columns and keep only texts and labels\n",
    "train = train.iloc[:, -3:]"
   ]
  },
  {
   "cell_type": "code",
   "execution_count": 9,
   "metadata": {},
   "outputs": [
    {
     "data": {
      "image/png": "[encoded data removed]",
      "text/plain": [
       "<Figure size 640x480 with 1 Axes>"
      ]
     },
     "metadata": {},
     "output_type": "display_data"
    }
   ],
   "source": [
    "# class distribution\n",
    "train['is_duplicate'].value_counts().plot.bar()\n",
    "plt.xlabel('Classes')\n",
    "plt.ylabel('Counts')\n",
    "plt.title('Training set class distribution')\n",
    "plt.show()"
   ]
  },
  {
   "cell_type": "code",
   "execution_count": 10,
   "metadata": {},
   "outputs": [],
   "source": [
    "# cropping the training data so that classes are balanced (50/50)\n",
    "min_length = len(train[train['is_duplicate']  == 1])\n",
    "train_0 = train[train['is_duplicate']  == 0].sample(min_length, random_state=42)\n",
    "# train_balanced = pd.concat([train_0, train[train['is_duplicate']  == 1]])\n",
    "train_balanced = pd.concat([train_0[:min_length // 5], train[train['is_duplicate']  == 1][:min_length // 5]])"
   ]
  },
  {
   "cell_type": "code",
   "execution_count": 11,
   "metadata": {},
   "outputs": [
    {
     "data": {
      "text/plain": [
       "question1       0\n",
       "question2       0\n",
       "is_duplicate    0\n",
       "dtype: int64"
      ]
     },
     "execution_count": 11,
     "metadata": {},
     "output_type": "execute_result"
    }
   ],
   "source": [
    "train_balanced.isna().sum()"
   ]
  },
  {
   "cell_type": "code",
   "execution_count": 12,
   "metadata": {},
   "outputs": [
    {
     "data": {
      "text/html": [
       "<div>\n",
       "<style scoped>\n",
       "    .dataframe tbody tr th:only-of-type {\n",
       "        vertical-align: middle;\n",
       "    }\n",
       "\n",
       "    .dataframe tbody tr th {\n",
       "        vertical-align: top;\n",
       "    }\n",
       "\n",
       "    .dataframe thead th {\n",
       "        text-align: right;\n",
       "    }\n",
       "</style>\n",
       "<table border=\"1\" class=\"dataframe\">\n",
       "  <thead>\n",
       "    <tr style=\"text-align: right;\">\n",
       "      <th></th>\n",
       "      <th>question1</th>\n",
       "      <th>question2</th>\n",
       "      <th>is_duplicate</th>\n",
       "    </tr>\n",
       "  </thead>\n",
       "  <tbody>\n",
       "    <tr>\n",
       "      <th>362768</th>\n",
       "      <td>Do I legally have to let my employer know that...</td>\n",
       "      <td>Should I take a top-up home loan for doing up ...</td>\n",
       "      <td>0</td>\n",
       "    </tr>\n",
       "    <tr>\n",
       "      <th>172363</th>\n",
       "      <td>How do I jailbreak iOS 9.3.4?</td>\n",
       "      <td>How do I jailbreak iOS 9.2.1?</td>\n",
       "      <td>0</td>\n",
       "    </tr>\n",
       "    <tr>\n",
       "      <th>216382</th>\n",
       "      <td>Is my US income taxable if I am working on OPT...</td>\n",
       "      <td>I am working for company X. My client is Y (US...</td>\n",
       "      <td>0</td>\n",
       "    </tr>\n",
       "    <tr>\n",
       "      <th>303171</th>\n",
       "      <td>Why hasn't Ivanka Trump condemned the bigotry ...</td>\n",
       "      <td>How does it feel to date Ivanka Trump?</td>\n",
       "      <td>0</td>\n",
       "    </tr>\n",
       "    <tr>\n",
       "      <th>122527</th>\n",
       "      <td>Can a mortar shell be fired accurately without...</td>\n",
       "      <td>Why is my ex doing this?</td>\n",
       "      <td>0</td>\n",
       "    </tr>\n",
       "    <tr>\n",
       "      <th>...</th>\n",
       "      <td>...</td>\n",
       "      <td>...</td>\n",
       "      <td>...</td>\n",
       "    </tr>\n",
       "    <tr>\n",
       "      <th>80109</th>\n",
       "      <td>What are some mind-blowing technology tools th...</td>\n",
       "      <td>What are some mind-blowing tech tools that mos...</td>\n",
       "      <td>1</td>\n",
       "    </tr>\n",
       "    <tr>\n",
       "      <th>80110</th>\n",
       "      <td>Why do people love dogs so much?</td>\n",
       "      <td>Why do some people love dogs so much?</td>\n",
       "      <td>1</td>\n",
       "    </tr>\n",
       "    <tr>\n",
       "      <th>80112</th>\n",
       "      <td>How do we learn from mistakes?</td>\n",
       "      <td>What is the best way to learn from mistakes?</td>\n",
       "      <td>1</td>\n",
       "    </tr>\n",
       "    <tr>\n",
       "      <th>80114</th>\n",
       "      <td>Why MS Dhoni has quit the captaincy from limit...</td>\n",
       "      <td>Why did MS Dhoni quit ODI and T20 captaincy?</td>\n",
       "      <td>1</td>\n",
       "    </tr>\n",
       "    <tr>\n",
       "      <th>80115</th>\n",
       "      <td>Why do some people still think the Earth is flat?</td>\n",
       "      <td>Why are so many people obsessed with the flat ...</td>\n",
       "      <td>1</td>\n",
       "    </tr>\n",
       "  </tbody>\n",
       "</table>\n",
       "<p>59704 rows × 3 columns</p>\n",
       "</div>"
      ],
      "text/plain": [
       "                                                question1  \\\n",
       "362768  Do I legally have to let my employer know that...   \n",
       "172363                      How do I jailbreak iOS 9.3.4?   \n",
       "216382  Is my US income taxable if I am working on OPT...   \n",
       "303171  Why hasn't Ivanka Trump condemned the bigotry ...   \n",
       "122527  Can a mortar shell be fired accurately without...   \n",
       "...                                                   ...   \n",
       "80109   What are some mind-blowing technology tools th...   \n",
       "80110                    Why do people love dogs so much?   \n",
       "80112                      How do we learn from mistakes?   \n",
       "80114   Why MS Dhoni has quit the captaincy from limit...   \n",
       "80115   Why do some people still think the Earth is flat?   \n",
       "\n",
       "                                                question2  is_duplicate  \n",
       "362768  Should I take a top-up home loan for doing up ...             0  \n",
       "172363                      How do I jailbreak iOS 9.2.1?             0  \n",
       "216382  I am working for company X. My client is Y (US...             0  \n",
       "303171             How does it feel to date Ivanka Trump?             0  \n",
       "122527                           Why is my ex doing this?             0  \n",
       "...                                                   ...           ...  \n",
       "80109   What are some mind-blowing tech tools that mos...             1  \n",
       "80110               Why do some people love dogs so much?             1  \n",
       "80112        What is the best way to learn from mistakes?             1  \n",
       "80114        Why did MS Dhoni quit ODI and T20 captaincy?             1  \n",
       "80115   Why are so many people obsessed with the flat ...             1  \n",
       "\n",
       "[59704 rows x 3 columns]"
      ]
     },
     "execution_count": 12,
     "metadata": {},
     "output_type": "execute_result"
    }
   ],
   "source": [
    "train_balanced.dropna(axis=0)"
   ]
  },
  {
   "cell_type": "code",
   "execution_count": 13,
   "metadata": {},
   "outputs": [],
   "source": [
    "def normalize(text:str) -> list:\n",
    "    ''' Function to tokenize our data correctly\n",
    "\n",
    "    - input: text(str), unprocessed material\n",
    "    - output: result(list), processed material\n",
    "    '''\n",
    "    # print(text)\n",
    "    text = text.replace('%', ' percent ')\n",
    "    text = text.replace('₹', ' rupee ')\n",
    "    text = text.replace('€', ' euro ')\n",
    "    text = text.replace('@', ' at ')\n",
    "    text = text.replace('¥', ' yuan ')\n",
    "\n",
    "\n",
    "    # convert all stemmed words to its original form\n",
    "    stemmer = SnowballStemmer('english')\n",
    "    #text = stemmer.stem(text)\n",
    "    tokens = word_tokenize(text)\n",
    "\n",
    "    for i in range(len(tokens)):\n",
    "        tokens[i] = stemmer.stem(tokens[i])\n",
    "    \n",
    "    return ' '.join(tokens)\n",
    "\n",
    "    "
   ]
  },
  {
   "cell_type": "code",
   "execution_count": 14,
   "metadata": {},
   "outputs": [
    {
     "data": {
      "text/plain": [
       "'i exchang 10 $ to 70.9999 yuan'"
      ]
     },
     "execution_count": 14,
     "metadata": {},
     "output_type": "execute_result"
    }
   ],
   "source": [
    "# test for normalize\n",
    "str1 = \"I exchanged 10$ to 70.9999¥\"\n",
    "\n",
    "normalize(str1)"
   ]
  },
  {
   "cell_type": "code",
   "execution_count": 15,
   "metadata": {},
   "outputs": [],
   "source": [
    "# tokenize sentences in training data \n",
    "train_q1 = list(train_balanced['question1'].apply(normalize))\n",
    "train_q2 = list(train_balanced['question2'].apply(normalize))"
   ]
  },
  {
   "cell_type": "code",
   "execution_count": 16,
   "metadata": {},
   "outputs": [],
   "source": [
    "# vectorization\n",
    "from sklearn.feature_extraction.text import CountVectorizer\n",
    "\n",
    "vectorizer = CountVectorizer()\n",
    "q1_vec = vectorizer.fit_transform(train_q1)\n",
    "q2_vec = vectorizer.fit_transform(train_q2)"
   ]
  },
  {
   "cell_type": "code",
   "execution_count": 17,
   "metadata": {},
   "outputs": [],
   "source": [
    "from scipy.sparse import hstack\n",
    "X = hstack((q1_vec, q2_vec))"
   ]
  },
  {
   "cell_type": "code",
   "execution_count": 18,
   "metadata": {},
   "outputs": [],
   "source": [
    "from sklearn.model_selection import train_test_split\n",
    "\n",
    "X_train, X_dev, y_train,y_dev = train_test_split(X, train_balanced['is_duplicate'], test_size=0.2, random_state=42)"
   ]
  },
  {
   "cell_type": "code",
   "execution_count": 19,
   "metadata": {},
   "outputs": [
    {
     "name": "stdout",
     "output_type": "stream",
     "text": [
      "The accuracy for baseline logistic regression: 0.7040448873628674\n"
     ]
    }
   ],
   "source": [
    "from sklearn.linear_model import SGDClassifier\n",
    "from sklearn.metrics import accuracy_score\n",
    "\n",
    "model_1 = SGDClassifier(loss='log_loss', max_iter=1000, tol=1e-4, n_jobs=4, alpha=0.0002, early_stopping=True)\n",
    "model_1.fit(X_train,y_train)\n",
    "y_pred = model_1.predict(X_dev)\n",
    "print('The accuracy for baseline logistic regression:', accuracy_score(y_dev,y_pred))"
   ]
  },
  {
   "cell_type": "code",
   "execution_count": 20,
   "metadata": {},
   "outputs": [],
   "source": [
    "from sklearn.model_selection import GridSearchCV\n",
    "\n",
    "params = {'tol':[]}"
   ]
  },
  {
   "cell_type": "code",
   "execution_count": 21,
   "metadata": {},
   "outputs": [
    {
     "name": "stdout",
     "output_type": "stream",
     "text": [
      "Accuracy for threshold = 0.3: 0.6469307428188594\n",
      "Accuracy for threshold = 0.4: 0.6861234402478854\n",
      "Accuracy for threshold = 0.5: 0.7040448873628674\n",
      "Accuracy for threshold = 0.6: 0.6885520475672054\n",
      "Accuracy for threshold = 0.7: 0.6476007034586718\n"
     ]
    }
   ],
   "source": [
    "y_pred_prob = model_1.predict_proba(X_dev)\n",
    "thresholds = [0.3, 0.4, 0.5, 0.6, 0.7]\n",
    "for i in thresholds:\n",
    "    y_pred = [1 if y_hat_val[1] > i else 0 for y_hat_val in y_pred_prob]\n",
    "    print(f'Accuracy for threshold = {i}:', accuracy_score(y_dev,y_pred))"
   ]
  },
  {
   "cell_type": "code",
   "execution_count": 22,
   "metadata": {},
   "outputs": [
    {
     "data": {
      "image/png": "[encoded data removed]",
      "text/plain": [
       "<Figure size 640x480 with 2 Axes>"
      ]
     },
     "metadata": {},
     "output_type": "display_data"
    }
   ],
   "source": [
    "from sklearn.metrics import confusion_matrix, ConfusionMatrixDisplay\n",
    "\n",
    "cm = confusion_matrix(y_dev, y_pred)\n",
    "disp = ConfusionMatrixDisplay(confusion_matrix=cm, display_labels=model_1.classes_)\n",
    "disp.plot()\n",
    "plt.show()"
   ]
  }
 ],
 "metadata": {
  "kernelspec": {
   "display_name": "Python 3.8.15 ('base')",
   "language": "python",
   "name": "python3"
  },
  "language_info": {
   "codemirror_mode": {
    "name": "ipython",
    "version": 3
   },
   "file_extension": ".py",
   "mimetype": "text/x-python",
   "name": "python",
   "nbconvert_exporter": "python",
   "pygments_lexer": "ipython3",
   "version": "3.8.15"
  },
  "vscode": {
   "interpreter": {
    "hash": "57468ee44aa95dd4e25b20d5089bdc40d0474ae5901f7acf4c61317f32db0a15"
   }
  }
 },
 "nbformat": 4,
 "nbformat_minor": 2
}
